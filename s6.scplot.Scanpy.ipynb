{
 "cells": [
  {
   "cell_type": "code",
   "execution_count": 2,
   "id": "e3a793f7-f2f4-46b9-b24f-2f7cbe0c04e7",
   "metadata": {},
   "outputs": [
    {
     "name": "stdout",
     "output_type": "stream",
     "text": [
      "scanpy==1.10.1 anndata==0.10.5.post1 umap==0.5.5 numpy==1.25.0 scipy==1.11.4 pandas==2.0.3 scikit-learn==1.4.2 statsmodels==0.13.2 igraph==0.9.10 pynndescent==0.5.8\n"
     ]
    }
   ],
   "source": [
    "import scanpy as sc\n",
    "from matplotlib.pyplot import rc_context\n",
    "sc.set_figure_params(dpi=300, color_map=\"viridis_r\")\n",
    "sc.settings.verbosity = 0\n",
    "sc.logging.print_header()"
   ]
  },
  {
   "cell_type": "code",
   "execution_count": 13,
   "id": "731494b9-398f-4ddc-b7d9-a1baec847079",
   "metadata": {},
   "outputs": [],
   "source": [
    "import anndata as ad\n",
    "import pooch\n",
    "import h5py\n",
    "import numpy as np"
   ]
  },
  {
   "cell_type": "code",
   "execution_count": 28,
   "id": "614d5095-73f3-4cb7-887e-c61ff362a221",
   "metadata": {},
   "outputs": [],
   "source": [
    "### 在R中使用下面的代码对seurat对象进行更改：\n",
    "# sample1[[\"RNA3\"]] <- as(object = sample1[[\"RNA\"]], Class = \"Assay\")\n",
    "# DefaultAssay(sample1) <- \"RNA3\"\n",
    "# sample1[[\"RNA\"]] <- NULL\n",
    "# sample1 <- RenameAssays(sample1, RNA3 = 'RNA')\n",
    "# save_file <- \"sample1.h5Seurat\"\n",
    "# SaveH5Seurat(sample1, filename = save_file, overwrite = TRUE)\n",
    "# Convert(save_file, dest = \"h5ad\", overwrite = TRUE)\n",
    "    \n",
    "adata = sc.read_h5ad('./scanalysis/pubmed2.h5ad')"
   ]
  },
  {
   "cell_type": "code",
   "execution_count": 31,
   "id": "24a29250-2ea5-42ff-836f-8c9bf2c2847a",
   "metadata": {},
   "outputs": [],
   "source": [
    "marker_genes_dict = {\n",
    "    \"C1-NSC group journals\":[\"CNSsubjournal\"],\n",
    "    \"C2-2023 CAS Rank\": [\"Chinese-Academy-of-Science\", \"University-of-Chinese-Academy-of-Science\"],\n",
    "    \"C3-Early warning journals in medicine\": [\"YuJing\"],\n",
    "    \"C4-Highcited author score\": [\"HighCitedAuthor\"],\n",
    "    \"C5-Predatory journals 1\": [\"LveduoJournal\"],\n",
    "    \"C6-Agricultural university\": [\"Jiangxi-Agricultural-University\",\"Shenyang-Agricultural-University\"],\n",
    "    \"C7-Affiliation foreign\": [\"Aff-Foreign\"],\n",
    "    \"C8-Predatory journals with early warning 1\": [\"YuJing\",\"LveduoJournal\",\"Chinese-Academy-of-Science\"],\n",
    "    \"C9-Predatory journals 2\": [\"LveduoJournal\",\"North-University-of-China\",\"Xian-Jiaotong-University\"],\n",
    "    \"C10-Predatory journals 3\": [\"LveduoJournal\"],\n",
    "    \"C11-Early warning journals in Qinghua university\": [\"YuJing\",\"Tsinghua-University\"],   \n",
    "    \"C12-Predatory journals with affiliation foreign\": [\"LveduoJournal\",\"Aff-Foreign\"],\n",
    "    \"C13-Predatory journals with early warning 2\": [\"LveduoJournal\",\"Nanjing-forestry-University\",\"Northeast-forestry-University\"],\n",
    "    \"C14-Predatory journals in Zheda university\": [\"LveduoJournal\",\"Zhejiang-University\",\"Zhejiang-University-School-of-Medicine\"],\n",
    "    \"C15-Early warning journals in other institution\": [\"YuJing\",\"Shandong-University\"],\n",
    "}"
   ]
  },
  {
   "cell_type": "code",
   "execution_count": 60,
   "id": "b7578fd5-b265-45ab-a9ce-67251e1a021a",
   "metadata": {},
   "outputs": [],
   "source": [
    "cluster2annotation = {\n",
    "    \"0\": \"C1-NSC group journals\",\n",
    "    \"1\": \"C1-NSC group journals\",\n",
    "    \"2\": \"C2-2023 CAS Rank\",\n",
    "    \"3\": \"C3-Early warning journals in medicine\",\n",
    "    \"4\": \"C4-Highcited author score\",\n",
    "    \"7\": \"C4-Highcited author score\",\n",
    "    \"11\": \"C4-Highcited author score\",\n",
    "    \"16\": \"C4-Highcited author score\",\n",
    "    \"5\": \"C5-Predatory journals 1\",\n",
    "    \"9\": \"C5-Predatory journals 1\",\n",
    "    \"19\": \"C5-Predatory journals 1\",\n",
    "    \"22\": \"C5-Predatory journals 1\",\n",
    "    \"6\": \"C8-Predatory journals with early warning 1\",\n",
    "    \"12\": \"C8-Predatory journals with early warning 1\",\n",
    "    \"17\": \"C8-Predatory journals with early warning 1\",\n",
    "    \"20\": \"C8-Predatory journals with early warning 1\",\n",
    "    \"24\": \"C8-Predatory journals with early warning 1\",\n",
    "    \"26\": \"C8-Predatory journals with early warning 1\",\n",
    "    \"8\": \"C6-Agricultural university\",\n",
    "    \"29\": \"C6-Agricultural university\",\n",
    "    \"10\": \"C7-Affiliation foreign\",\n",
    "    \"13\": \"C9-Predatory journals 2\",\n",
    "    \"28\": \"C9-Predatory journals 2\",\n",
    "    \"14\": \"C10-Predatory journals 3\",\n",
    "    \"15\": \"C11-Early warning journals in Qinghua university\",\n",
    "    \"18\": \"C12-Predatory journals with affiliation foreign\",\n",
    "    \"21\": \"C13-Predatory journals with early warning 2\",\n",
    "    \"23\": \"C14-Predatory journals in Zheda university\",\n",
    "    \"25\": \"C15-Early warning journals in other institution\",\n",
    "    \"27\": \"C15-Early warning journals in other institution\",\n",
    "}\n"
   ]
  },
  {
   "cell_type": "code",
   "execution_count": 61,
   "id": "04a94fdc-8219-4046-8369-77954df2bc57",
   "metadata": {},
   "outputs": [],
   "source": [
    "adata.obs[\"cell type\"] = adata.obs[\"seurat_clusters\"].map(cluster2annotation).astype(\"category\")"
   ]
  },
  {
   "cell_type": "code",
   "execution_count": 55,
   "id": "875ff834-ac7f-4bcf-824c-1bc020192cdd",
   "metadata": {},
   "outputs": [],
   "source": [
    "sc.tl.leiden(\n",
    "    adata,\n",
    "    key_added=\"seurat_clusters\",\n",
    "    resolution=0.5,\n",
    "    n_iterations=2,\n",
    "    flavor=\"igraph\",\n",
    "    directed=False,\n",
    ")"
   ]
  },
  {
   "cell_type": "code",
   "execution_count": 53,
   "id": "cdb67fc8-b457-4645-8c76-87305073ef73",
   "metadata": {},
   "outputs": [
    {
     "name": "stderr",
     "output_type": "stream",
     "text": [
      "/home/chench/anaconda3/lib/python3.9/site-packages/scipy/sparse/_index.py:143: SparseEfficiencyWarning: Changing the sparsity structure of a csr_matrix is expensive. lil_matrix is more efficient.\n",
      "  self._set_arrayXarray(i, j, x)\n"
     ]
    }
   ],
   "source": [
    "sc.pp.neighbors(adata, n_neighbors=15, use_rep='X_pca')"
   ]
  },
  {
   "cell_type": "code",
   "execution_count": 54,
   "id": "5245f49b-b2ce-4e0a-a900-8d7c924f8f20",
   "metadata": {},
   "outputs": [
    {
     "name": "stderr",
     "output_type": "stream",
     "text": [
      "/tmp/ipykernel_1201/3467744858.py:1: FutureWarning: In the future, the default backend for leiden will be igraph instead of leidenalg.\n",
      "\n",
      " To achieve the future defaults please pass: flavor=\"igraph\" and n_iterations=2.  directed must also be False to work with igraph's implementation.\n",
      "  sc.tl.leiden(adata)\n"
     ]
    }
   ],
   "source": [
    "sc.tl.leiden(adata)"
   ]
  },
  {
   "cell_type": "code",
   "execution_count": 86,
   "id": "651895ef-a571-4002-94d5-7b91f9959813",
   "metadata": {},
   "outputs": [
    {
     "data": {
      "text/plain": [
       "AnnData object with n_obs × n_vars = 50216 × 919\n",
       "    obs: 'orig.ident', 'nCount_RNA', 'nFeature_RNA', 'RNA_snn_res.0.3', 'seurat_clusters', 'celltype', 'group', 'Year', 'Affiliation', 'City', 'Province', 'papertype', 'leiden', 'cell type'\n",
       "    var: 'vf_vst_counts_mean', 'vf_vst_counts_variance', 'vf_vst_counts_variance.expected', 'vf_vst_counts_variance.standardized', 'vf_vst_counts_variable', 'vf_vst_counts_rank', 'var.features', 'var.features.rank'\n",
       "    uns: 'dendrogram_seurat_clusters', 'neighbors', 'leiden', 'seurat_clusters', 'seurat_clusters_colors', 'dendrogram_cell type', 'cell type_colors'\n",
       "    obsm: 'X_pca', 'X_tsne', 'X_umap'\n",
       "    varm: 'PCs'\n",
       "    obsp: 'distances', 'connectivities'"
      ]
     },
     "execution_count": 86,
     "metadata": {},
     "output_type": "execute_result"
    }
   ],
   "source": [
    "adata"
   ]
  },
  {
   "cell_type": "code",
   "execution_count": 87,
   "id": "3bd82ec5-1192-48db-bfc1-fdacf93b4d86",
   "metadata": {},
   "outputs": [
    {
     "name": "stderr",
     "output_type": "stream",
     "text": [
      "/home/chench/anaconda3/lib/python3.9/site-packages/scanpy/preprocessing/_scale.py:167: RuntimeWarning: invalid value encountered in sqrt\n",
      "  std = np.sqrt(var)\n"
     ]
    }
   ],
   "source": [
    "adata.layers[\"scaled\"] = sc.pp.scale(adata, copy=True).X"
   ]
  },
  {
   "cell_type": "code",
   "execution_count": null,
   "id": "d3e72ae2-94b7-49b3-9318-8996d9a479ee",
   "metadata": {},
   "outputs": [],
   "source": []
  }
 ],
 "metadata": {
  "kernelspec": {
   "display_name": "Python 3 (ipykernel)",
   "language": "python",
   "name": "python3"
  },
  "language_info": {
   "codemirror_mode": {
    "name": "ipython",
    "version": 3
   },
   "file_extension": ".py",
   "mimetype": "text/x-python",
   "name": "python",
   "nbconvert_exporter": "python",
   "pygments_lexer": "ipython3",
   "version": "3.9.13"
  }
 },
 "nbformat": 4,
 "nbformat_minor": 5
}
